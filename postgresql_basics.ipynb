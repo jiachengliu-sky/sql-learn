{
 "cells": [
  {
   "cell_type": "markdown",
   "id": "0b6777a4-2ae8-4766-9b3d-bfaeb4264869",
   "metadata": {},
   "source": [
    "# Postgres SQL"
   ]
  },
  {
   "cell_type": "markdown",
   "id": "eb5ce8e0-475b-4eb4-a64d-98a6c4a55937",
   "metadata": {},
   "source": [
    "`INFORMATION_SCHEMA.COLUMNS` is a table that stores information of all tables in a database\n",
    "\n",
    "```postgresql\n",
    "SELECT column_name, data_type\n",
    "FROM INFORMATION_SCHEMA.COLUMNS\n",
    "```"
   ]
  },
  {
   "cell_type": "markdown",
   "id": "7c222e83-48fd-495a-902f-f9ce6bf962ce",
   "metadata": {},
   "source": [
    "## Basics"
   ]
  },
  {
   "cell_type": "markdown",
   "id": "a35d8b07-7696-4fb2-a7ed-5d0fe686f6e9",
   "metadata": {},
   "source": [
    "### Summary Stastics\n",
    "\n",
    "```postgresql\n",
    "MIN(), MAX(), AVG()\n",
    "\n",
    "VAR_POP()\n",
    "VAR_SAMP(), VARIANCE()\n",
    "\n",
    "STDDEV_POP()\n",
    "STDDEV_SAMP(), STDDEV()\n",
    "\n",
    "CORR()\n",
    "PERCENTILE_DISC(percentile) WITHIN GROUP (ORDER BY column_name)\n",
    "PERCENTILE_CONT(percentile) WITHIN GROUP (ORDER BY column_name)\n",
    "```"
   ]
  },
  {
   "cell_type": "markdown",
   "id": "085e61b8-97a1-4416-a629-d3429a5495a2",
   "metadata": {
    "tags": []
   },
   "source": [
    "### Precision\n",
    "\n",
    "```postgresql\n",
    "ROUND(num, precision)\n",
    "TRUNC(num, digits)\n",
    "\n",
    "```"
   ]
  },
  {
   "cell_type": "markdown",
   "id": "1213fc77-2a9a-4e03-8d47-4175398455d2",
   "metadata": {},
   "source": [
    "### GENERATE_SERIES()\n",
    "\n",
    "Create a numeric series OR date series\n",
    "```postgresql\n",
    "GENERATE_SERIES(begin, end, step) -- inclusive on both ends\n",
    "\n",
    "```"
   ]
  },
  {
   "cell_type": "markdown",
   "id": "4efc35b9-01da-475d-b9fb-957ed9c64356",
   "metadata": {
    "tags": []
   },
   "source": [
    "## Create Table & Insert Records\n"
   ]
  },
  {
   "cell_type": "markdown",
   "id": "27cad2f3-fce1-44c6-ae57-166c6a883129",
   "metadata": {},
   "source": [
    "```postgresql\n",
    "CREATE TABLE tb1(\n",
    "    id BIGSERIAL NOT NULL PRIMARY KEY\n",
    "    field1 TEXT \n",
    "    field2 INTEGER\n",
    "    field3 INT[]\n",
    "    field4 TEXT[][]\n",
    ");\n",
    "\n",
    "INSERT INTO tb1 VALUES ('TEXT', 10, '{12, 13, 14}', '{{\"Hello\", \"Hi\"},{\"Welcome\", \"Thanks\"}}');\n",
    "\n",
    "SELECT field4[1][1]\n",
    "FROM tb1;\n",
    "\n",
    "SELECT *\n",
    "FROM tb1\n",
    "WHERE 'HELLO' = ANY (field_4)\n",
    "```"
   ]
  },
  {
   "cell_type": "markdown",
   "id": "8894d43f-89f9-4f44-a909-5f2300a269dd",
   "metadata": {},
   "source": [
    "## Alter Table\n",
    "\n",
    "```postgresql\n",
    "ALTER TABLE tb ADD PRIMARY KEY(field);\n",
    "\n",
    "ALTER TABLE tb ADD CONSTRAINT constraint_name_ UNIQUE(unique_field);\n",
    "\n",
    "ALTER TABLE tb ADD CONSTRAINT constraint_name_ CHECK(conditions);\n",
    "\n",
    "ALTER TABLE tb DROP CONSTRAINT unique_field;\n",
    "\n",
    "```"
   ]
  },
  {
   "cell_type": "markdown",
   "id": "ef5da80e-382c-4e08-9858-cd8253202aeb",
   "metadata": {},
   "source": [
    "## Drop Table & Delete Row\n",
    "\n",
    "```postgresql\n",
    "DROP TABLE tb1;\n",
    "\n",
    "DELETE FROM tb1 WHERE conditions;\n",
    "\n",
    "```"
   ]
  },
  {
   "cell_type": "markdown",
   "id": "d227e5f4-6ab7-4b5f-9179-a401a55b320e",
   "metadata": {},
   "source": [
    "## Create & Drop Temporary Table\n",
    "\n",
    "```postgresql\n",
    "CREATE TEMP TABLE temp_tb AS \n",
    "SELECT ;\n",
    "\n",
    "\n",
    "SELECT field INTO TEMP TABLE temp_tb\n",
    "FROM tb1;\n",
    "\n",
    "DROP TABLE IF EXISTS temp_tb;\n",
    "```"
   ]
  },
  {
   "cell_type": "markdown",
   "id": "744bd1f8-6fdf-4ad0-8530-1497e57ebff1",
   "metadata": {
    "tags": []
   },
   "source": [
    "## Create Data Type\n"
   ]
  },
  {
   "cell_type": "markdown",
   "id": "939813b7-565d-4641-aa4e-ec6334e97ead",
   "metadata": {},
   "source": [
    "```postgresql\n",
    "CREATE TYPE type_name AS ENUM ();\n",
    "\n",
    "SELECT typname, typcategory\n",
    "FROM pg_type\n",
    "WHERE typname=type_name\n",
    "```"
   ]
  },
  {
   "cell_type": "markdown",
   "id": "29bae730-e2c3-419f-902f-62b91c1e4c82",
   "metadata": {
    "tags": []
   },
   "source": [
    "## Create Functions"
   ]
  },
  {
   "cell_type": "markdown",
   "id": "5df9aa5c-424f-4b49-899e-dd074b9135f0",
   "metadata": {},
   "source": [
    "```postgresql\n",
    "CREATE FUNCTION func_name(variable_name variable_type) RETURNS variable_type AS $$\n",
    "    BEGIN\n",
    "        RETURN \n",
    "    END\n",
    "$$ LANGUAGE plpgsql\n",
    "```"
   ]
  },
  {
   "cell_type": "markdown",
   "id": "5028b45e-755c-49ea-b30b-7e06edb33029",
   "metadata": {},
   "source": [
    "## Extension\n",
    "\n",
    "```postgresql\n",
    "-- See available extensions\n",
    "SELECT name\n",
    "FROM pg_available_extensions;\n",
    "\n",
    "-- See installed extensions\n",
    "SELECT extname\n",
    "FROM pg_extension;\n",
    "\n",
    "CREATE EXTENSION IF NOT EXISTS fuzzystrmatch;\n",
    "\n",
    "\n",
    "```"
   ]
  },
  {
   "cell_type": "markdown",
   "id": "2ee88279-2151-4fcc-8e50-56a5231e0030",
   "metadata": {
    "tags": []
   },
   "source": [
    "## Datetime\n",
    "\n",
    "Arithmetic operation of `DATE` object returns `INTEGER` object\n",
    "```postgresql\n",
    "DATE '2022-09-01' - DATE '2022-08-31'\n",
    "\n",
    "```"
   ]
  },
  {
   "cell_type": "markdown",
   "id": "c864e85c-7f64-4931-b931-af5f641ae678",
   "metadata": {},
   "source": [
    "### INTERVAL\n",
    "\n",
    "```postgresql\n",
    "SELECT date_1 + INTERVAL '3 days'\n",
    "\n",
    "```"
   ]
  },
  {
   "cell_type": "markdown",
   "id": "28829ff4-537e-4f35-bc2d-707285ed88da",
   "metadata": {
    "tags": []
   },
   "source": [
    "### TIMESTAMP\n"
   ]
  },
  {
   "cell_type": "markdown",
   "id": "57a6be9a-efa6-4ff6-863c-3d189469d943",
   "metadata": {},
   "source": [
    "`TIMESTAMP` object are default to non-time-zone\n",
    "\n",
    "Arithmetic operation of `DATE` object returns `INTERVAL` object\n",
    "\n",
    "```postgresql\n",
    "TIMESTAMP '2022-09-01' - TIMESTAMP '2022-08-31'\n",
    "\n",
    "```\n",
    "\n",
    "`AGE(later_date, early_date)` calculate the interval between two `TIMESTAMP` objects if given two, or the interval between one date and `NOW()`\n",
    "\n",
    "`NOW()`\n",
    "`CURRENT_TIMESTAMP` OR `CURRENT_TIMESTAMP(n)` to specify precision\n",
    "`CURRENT_DATE`\n",
    "`CURRENT_TIME` OR `CURRENT_TIME(n)` to specify precision\n",
    "\n",
    "Casting:\n",
    "1. `CAST(NOW() AS TIMESTAMP)`\n",
    "2. `NOW()::TIMESTAMP`: PostgreSQL only"
   ]
  },
  {
   "cell_type": "markdown",
   "id": "819088a1-6ef4-4d73-b680-0997f7fa21f6",
   "metadata": {},
   "source": [
    "### EXTRACT()\n",
    "\n",
    "Returns a numeric value\n",
    "\n",
    "```postgresql\n",
    "SELECT EXTRACT(DAY FROM CURRENT_TIMESTAMP);\n",
    "SELECT EXTRACT(YEAR FROM CURRENT_TIMESTAMP);\n",
    "SELECT EXTRACT(QUARTER FROM CURRENT_TIMESTAMP);\n",
    "SELECT EXTRACT(DOW FROM CURRENT_TIMESTAMP);  --Day of Week\n",
    "SELECT EXTRACT(CENTURY FROM CURRENT_TIMESTAMP);\n",
    "\n",
    "-- OR \n",
    "\n",
    "to_char(NOW(), 'day') -- Day of Week\n",
    "date_part('month', now())\n",
    "```"
   ]
  },
  {
   "cell_type": "markdown",
   "id": "5792c971-cc5c-4716-9879-91c3a1f0d619",
   "metadata": {},
   "source": [
    "### DATE_TRUNC()\n",
    "\n",
    "```postgresql\n",
    "SELECT DATE_TRUNC('year', CURRENT_TIMESTAMP)  -- Result: 2022-01-01 00:00:00\n",
    "SELECT DATE_TRUNC('month', CURRENT_TIMESTAMP) -- Result: 2022-09-01 00:00:00\n",
    "```"
   ]
  },
  {
   "cell_type": "markdown",
   "id": "9cb601d3-c0ad-4da7-b836-3e9844a53c49",
   "metadata": {},
   "source": [
    "## String"
   ]
  },
  {
   "cell_type": "markdown",
   "id": "861d4d5c-edaa-4ddb-a01f-24013080f3d7",
   "metadata": {},
   "source": [
    "### Concatenation\n",
    "\n",
    "```postgresql\n",
    "SELECT field_1 || ' ' || field_2\n",
    "\n",
    "SELECT CONCAT(field_1, ' ', field_2)\n",
    "```"
   ]
  },
  {
   "cell_type": "markdown",
   "id": "a07fe6c7-7e50-4132-8294-c221a98d9f87",
   "metadata": {},
   "source": [
    "### String Transformation\n",
    "\n",
    "```postgresql\n",
    "UPPER()\n",
    "LOWER()\n",
    "INITCAP()\n",
    "REPLACE(field, original_string, new_string)\n",
    "REVERSE()\n"
   ]
  },
  {
   "cell_type": "markdown",
   "id": "10249f04-ae47-47fd-92b6-95972514b896",
   "metadata": {},
   "source": [
    "### Parsing\n",
    "\n",
    "```postgresql\n",
    "LENGTH(field)\n",
    "CHAR_LENGTH(field)\n",
    "POSITION(pattern IN field)\n",
    "\n",
    "LEFT(field, num_letter)\n",
    "RIGHT(field, num_letter)\n",
    "\n",
    "SUBSTRING(field, start_index, length_string)\n",
    "SUBSTRING(field FROM start_index FOR end_index)\n",
    "\n",
    "-- Remove whitespace\n",
    "TRIM([leading | trailing | both] [characters] FROM str)\n",
    "LTRIM()\n",
    "RTRIM()\n",
    "\n",
    "-- LPAD('padded', 10, '#') -> ####padded\n",
    "LPAD(str, str_length, padding_char)\n",
    "RPAD()\n",
    "```"
   ]
  },
  {
   "cell_type": "markdown",
   "id": "41c7398b-ecf8-446c-a200-63475476e9a2",
   "metadata": {},
   "source": [
    "### Split\n",
    "\n",
    "```postgresql\n",
    "split_part(str, delimiter, part_to_be_selected)\n",
    "```"
   ]
  },
  {
   "cell_type": "markdown",
   "id": "f7bc7ecb-18f3-4700-9d80-27496b20b9e0",
   "metadata": {
    "tags": []
   },
   "source": [
    "### Searching\n",
    "\n",
    "```postgresql\n",
    "-- Case Sensitive\n",
    "LIKE pattern; \n",
    "\n",
    "-- Case Insensitive\n",
    "ILIKE pattern;\n",
    "\n",
    "-- OR\n",
    "\n",
    "to_tsvector(field) @@ to_tsquery(pattern)\n",
    "\n",
    "\n",
    "```"
   ]
  },
  {
   "cell_type": "markdown",
   "id": "bed2cf3c-b01c-4283-918f-a5ca608324b0",
   "metadata": {},
   "source": [
    "### Multi Transformation\n",
    "\n",
    "```postgresql\n",
    "UPDATE tb\n",
    "SET \n",
    "WHERE\n",
    "\n",
    "```"
   ]
  }
 ],
 "metadata": {
  "kernelspec": {
   "display_name": "Python 3 (ipykernel)",
   "language": "python",
   "name": "python3"
  },
  "language_info": {
   "codemirror_mode": {
    "name": "ipython",
    "version": 3
   },
   "file_extension": ".py",
   "mimetype": "text/x-python",
   "name": "python",
   "nbconvert_exporter": "python",
   "pygments_lexer": "ipython3",
   "version": "3.9.12"
  }
 },
 "nbformat": 4,
 "nbformat_minor": 5
}
