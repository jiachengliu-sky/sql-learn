{
 "cells": [
  {
   "cell_type": "markdown",
   "id": "b35d474e-19cf-40ca-a2af-ebcf08bd2cc3",
   "metadata": {},
   "source": [
    "# Data Exploration"
   ]
  },
  {
   "cell_type": "markdown",
   "id": "26187ec6-7de6-43f3-b571-bd47c961f764",
   "metadata": {},
   "source": [
    "## Find Tables in Database\n",
    "\n",
    "```postgresql\n",
    "SELECT *\n",
    "FROM pg_catalog.pg_tables\n",
    "WHERE schemaname = 'public'\n",
    "```"
   ]
  },
  {
   "cell_type": "markdown",
   "id": "25bc3d89-9a70-4dd2-8282-a37ac885e0ff",
   "metadata": {},
   "source": [
    "## Find Columns in Tables\n",
    "\n",
    "```postgresql\n",
    "CREATE VIEW table_columns AS\n",
    "\n",
    "SELECT table_name, STRING_AGG(column_name, ',')\n",
    "FROM information_schema.columns\n",
    "WHERE table_schema = 'public'\n",
    "GROUP BY table_name;\n",
    "```"
   ]
  },
  {
   "cell_type": "markdown",
   "id": "b0be2194-6126-4cb6-80af-d836f6239939",
   "metadata": {},
   "source": [
    "## Views vs. Tables \n",
    "\n",
    "Views are stored query, whereas Tables are stored data"
   ]
  },
  {
   "cell_type": "markdown",
   "id": "e31c4da1-bec9-42b2-a825-53385b6fa84a",
   "metadata": {},
   "source": [
    "## Update Columns\n",
    "\n",
    "```postgresql\n",
    "-- Make a column UPPERCASED\n",
    "UPDATE tb\n",
    "SET field = UPPER(filed)\n",
    "WHERE conditions; --Optional\n",
    "\n",
    "```"
   ]
  },
  {
   "cell_type": "markdown",
   "id": "7bd07614-757b-4a50-a566-40a0c718b9ac",
   "metadata": {},
   "source": [
    "## Drop, Truncate, Delete\n",
    "\n",
    "`DROP TABLE tb` Erases a table entirely\n",
    "\n",
    "`TRUNCATE TABLE tb` Clears the content of the table\n",
    "\n",
    "`DELETE FROM tb WHERE conditions` Removes rows upon conditions\n",
    "\n"
   ]
  }
 ],
 "metadata": {
  "kernelspec": {
   "display_name": "Python 3 (ipykernel)",
   "language": "python",
   "name": "python3"
  },
  "language_info": {
   "codemirror_mode": {
    "name": "ipython",
    "version": 3
   },
   "file_extension": ".py",
   "mimetype": "text/x-python",
   "name": "python",
   "nbconvert_exporter": "python",
   "pygments_lexer": "ipython3",
   "version": "3.9.12"
  }
 },
 "nbformat": 4,
 "nbformat_minor": 5
}
