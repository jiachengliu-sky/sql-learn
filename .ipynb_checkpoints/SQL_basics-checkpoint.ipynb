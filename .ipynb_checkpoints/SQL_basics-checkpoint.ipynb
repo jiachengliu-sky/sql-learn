{
 "cells": [
  {
   "cell_type": "markdown",
   "id": "fffa6a36-8dbd-4c8b-8089-7dbc797e3859",
   "metadata": {},
   "source": [
    "# SQL Basics"
   ]
  },
  {
   "cell_type": "markdown",
   "id": "a2910c56-918e-4d72-b787-14e92215da8e",
   "metadata": {},
   "source": [
    "## Structure\n",
    "\n",
    "```sql\n",
    "SELECT FUNC(field) AS alias\n",
    "FROM db\n",
    "WHERE criteria\n",
    "GROUP BY field\n",
    "ORDER BY field ASC\n",
    "LIMIT 10;\n",
    "\n",
    "```"
   ]
  },
  {
   "cell_type": "markdown",
   "id": "0d72e38d-4091-49b0-9030-4583537006ff",
   "metadata": {},
   "source": [
    "## SELECT\n",
    "\n",
    "```sql\n",
    "-- Select multiple fields\n",
    "SELECT field_1, filed_2\n",
    "FROM db;\n",
    "\n",
    "-- Use AS to rename a field\n",
    "SELECT field AS alias\n",
    "FROM db;\n",
    "\n",
    "-- Use DISTINCT to find unique value in a field\n",
    "SELECT DISTINCT field\n",
    "FROM db;\n",
    "\n",
    "-- Use COUNT() to find the number of record in a field\n",
    "-- COUNT(*) includes missing values\n",
    "-- COUNT(filed) includes only non-missing values\n",
    "SELECT COUNT(field)\n",
    "FROM db;\n",
    "\n",
    "-- Use COUNT(DISTINCT ) to find the number of unique value in a field\n",
    "SELECT COUNT(DISTINCT field)\n",
    "FROM db;\n",
    "```"
   ]
  },
  {
   "cell_type": "markdown",
   "id": "6e3f2c35-f6da-4640-863d-cfe9e815a970",
   "metadata": {},
   "source": [
    "## Filter\n",
    "\n",
    "```sql\n",
    "WHERE field > 3;\n",
    "\n",
    "WHERE field < 3;\n",
    "\n",
    "WHERE field = 3;\n",
    "\n",
    "WHERE field <> 3;\n",
    "\n",
    "-- Exact match\n",
    "WHERE field = 'hello';\n",
    "\n",
    "-- Starts with 'a'\n",
    "WHERE field LIKE 'a%';\n",
    "\n",
    "-- Ends with 'a'\n",
    "WHERE field LIKE '%a';\n",
    "\n",
    "-- Two chars ends with 'a'\n",
    "WHERE field LIKE '_a';\n",
    "\n",
    "-- Second char is 'a'\n",
    "WHERE field LIKE '_a%';\n",
    "\n",
    "-- Not starts with 'b'\n",
    "WHERE field NOT LIKE 'b%'\n",
    "\n",
    "-- Null\n",
    "WHERE field IS NULL;\n",
    "\n",
    "-- Non-null\n",
    "WHERE field IS NOT NULL;\n",
    "```"
   ]
  },
  {
   "cell_type": "markdown",
   "id": "eb43570e-0990-4013-ae85-86b53a67c771",
   "metadata": {},
   "source": [
    "## Aggregate Functions\n",
    "\n",
    "```sql\n",
    "SELECT AVG(field);\n",
    "\n",
    "SELECT SUM(field);\n",
    "\n",
    "SELECT MIN(field);\n",
    "\n",
    "SELECT MAX(field);\n",
    "\n",
    "SELECT COUNT(field);\n",
    "\n",
    "-- Round to 2 decimal place\n",
    "SELECT ROUND(value, 2)\n",
    "\n",
    "-- Round to whole number\n",
    "SELECT ROUND(value, 0)\n",
    "\n",
    "-- Combine string\n",
    "SELECT STRING_AGG(field, separator);\n",
    "```"
   ]
  },
  {
   "cell_type": "markdown",
   "id": "1748b6ef-374b-4157-8171-1f486b08b733",
   "metadata": {},
   "source": [
    "## GROUP BY\n",
    "\n",
    "```sql\n",
    "-- If GROUP BY keyword is used, must use aggregate function on SELECT\n",
    "SELECT AGGREGATE_FUNCTION(field)\n",
    "FROM db\n",
    "GROUP BY field;\n",
    "\n",
    "```"
   ]
  },
  {
   "cell_type": "markdown",
   "id": "9b0c59a4-09bf-4eae-b61c-680703bef814",
   "metadata": {},
   "source": [
    "## HAVING\n",
    "\n",
    "Due to the order of execution, `GROUP BY` has a special filter keyword `HAVING` for grouped records\n",
    "\n",
    "```sql\n",
    "GROUP BY field\n",
    "HAVING field > 5\n",
    "\n",
    "```"
   ]
  },
  {
   "cell_type": "markdown",
   "id": "789f661e-351b-4300-81d3-667b6052c047",
   "metadata": {},
   "source": [
    "## ORDER BY\n",
    "\n",
    "```sql\n",
    "ORDER BY field ASC;\n",
    "\n",
    "ORDER BY field DESC;\n",
    "\n",
    "ORDER BY field_1 ASC, filed_2 DESC;\n",
    "\n",
    "```"
   ]
  },
  {
   "cell_type": "markdown",
   "id": "f48f76f3-d043-43c3-ae2c-59645c81ebce",
   "metadata": {},
   "source": [
    "## INNER JOIN\n",
    "\n",
    "```postgresql\n",
    "FROM db1\n",
    "INNER JOIN db2\n",
    "ON db1.field = db2.field;\n",
    "\n",
    "-- Must use aliases consistently; if declared as d1, d2, cannot ON `db1.field = db2.field`\n",
    "FROM db1 AS d1\n",
    "INNER JOIN db2 AS d2\n",
    "ON d1.field = d2.field;\n",
    "\n",
    "-- Join using a shared field name\n",
    "FROM db1\n",
    "INNER JOIN db2\n",
    "USING (field);\n",
    "\n",
    "-- Join using multiple fields\n",
    "FROM db1\n",
    "INNER JOIN db2\n",
    "ON db1.field_1 = db2.field_1 AND db1.field_2 = db2.field_2\n",
    "\n",
    "-- Join with multiple dbs\n",
    "FROM db1\n",
    "INNER JOIN db2\n",
    "ON db1.field = db2.field\n",
    "INNER JOIN db3\n",
    "ON db1.field = db3.field\n",
    "```"
   ]
  },
  {
   "cell_type": "markdown",
   "id": "fb0a91dc-454f-4775-a488-cdf32a82dbad",
   "metadata": {},
   "source": [
    "## Other Joins\n",
    "\n",
    "`LEFT JOIN`, `RIGHT JOIN`, `FULL JOIN` share similar syntax as `INNER JOIN` above\n",
    "\n",
    "`CROSS JOIN`"
   ]
  },
  {
   "cell_type": "markdown",
   "id": "e704ce21-3491-459d-b410-60a18dc53b7e",
   "metadata": {
    "tags": []
   },
   "source": [
    "## UNION & UNION ALL\n",
    "\n",
    "Concatenate tables vertically if tables or selected fields are **of the same number of fields** AND **the fields are of same type**\n",
    "\n",
    "`UNION` removes duplicate\n",
    "\n",
    "The new db will use field names from the first db\n",
    "\n",
    "```postgresql\n",
    "SELECT *\n",
    "FROM db1\n",
    "UNION\n",
    "SELECT *\n",
    "FROM db2\n",
    "ORDER BY field\n",
    "```"
   ]
  },
  {
   "cell_type": "markdown",
   "id": "79c4c6db-25e4-4c36-8e2a-bc8203be65bb",
   "metadata": {},
   "source": [
    "## INTERSECT\n",
    "\n",
    "```postgresql\n",
    "SELECT *\n",
    "FROM db1\n",
    "INTERSECT\n",
    "SELECT *\n",
    "FROM db2;\n",
    "```"
   ]
  },
  {
   "cell_type": "markdown",
   "id": "0acff355-101f-40c5-b6a8-c126baa93e0b",
   "metadata": {},
   "source": [
    "## EXCEPT\n",
    "\n",
    "```postgresql\n",
    "SELECT *\n",
    "FROM db1\n",
    "EXCEPT\n",
    "SELECT *\n",
    "FROM db2;\n",
    "```"
   ]
  }
 ],
 "metadata": {
  "kernelspec": {
   "display_name": "Python 3 (ipykernel)",
   "language": "python",
   "name": "python3"
  },
  "language_info": {
   "codemirror_mode": {
    "name": "ipython",
    "version": 3
   },
   "file_extension": ".py",
   "mimetype": "text/x-python",
   "name": "python",
   "nbconvert_exporter": "python",
   "pygments_lexer": "ipython3",
   "version": "3.9.12"
  }
 },
 "nbformat": 4,
 "nbformat_minor": 5
}
