{
 "cells": [
  {
   "cell_type": "markdown",
   "id": "d0882b1d-8298-4f56-9f27-05daab99c994",
   "metadata": {},
   "source": [
    "# SQL Data Manipulation"
   ]
  },
  {
   "cell_type": "markdown",
   "id": "7c3be679-a81f-4365-a73b-8ce7c9c284e7",
   "metadata": {
    "jp-MarkdownHeadingCollapsed": true,
    "tags": []
   },
   "source": [
    "## Case Statements\n",
    "\n",
    "`WHEN`, `THEN`, `ELSE`, `END`"
   ]
  },
  {
   "cell_type": "markdown",
   "id": "7702132e-7dc8-4c30-80a4-e5e776bdfcd8",
   "metadata": {},
   "source": [
    "#### CASE in SELECT \n",
    "\n",
    "```postgresql\n",
    "SELECT\n",
    "    CASE WHEN criteria THEN display_message\n",
    "         WHEN criteria THEN display_message\n",
    "         ELSE display_message\n",
    "         END AS field_name\n",
    "FROM db1;\n",
    "```"
   ]
  },
  {
   "cell_type": "markdown",
   "id": "45f12684-633e-4b90-9f27-6c774eb62633",
   "metadata": {},
   "source": [
    "#### CASE in WHERE\n",
    "\n",
    "```postgresql\n",
    "SELECT field\n",
    "FROM db1\n",
    "WHERE CASE WHEN criteria THEN display_message\n",
    "      CASE WHEN criteria THEN display_message\n",
    "      END IS NOT NULL;\n",
    "```\n"
   ]
  },
  {
   "cell_type": "markdown",
   "id": "24b095d2-a22d-4405-86c9-6f64cc472fb8",
   "metadata": {},
   "source": [
    "#### CASE with aggregate functions\n",
    "\n",
    "```postgresql\n",
    "SELECT\n",
    "    SUM(CASE WHEN criteria THEN value_field END) AS s,\n",
    "    COUNT(CASE WHEN criteria THEN display_message END) AS c\n",
    "    ROUND(AVG(CASE WHEN criteria THEN 1 \n",
    "                   WHEN criteria THEN 0),2) as percentage_avg\n",
    "FROM db1\n",
    "GROUP BY field\n",
    "\n",
    "```"
   ]
  },
  {
   "cell_type": "markdown",
   "id": "bc9d0510-ab92-442b-be79-d562bfc71b64",
   "metadata": {
    "jp-MarkdownHeadingCollapsed": true,
    "tags": []
   },
   "source": [
    "## Subquery\n",
    "\n",
    "Returns intermediary transformed information of a scalar, a list, or a table"
   ]
  },
  {
   "cell_type": "markdown",
   "id": "8b8e79f9-47bb-47c1-9432-9314c7ffc2c7",
   "metadata": {},
   "source": [
    "#### Subquery in WHERE\n",
    "```postgresql\n",
    "SELECT field\n",
    "FROM db1\n",
    "WHERE field_1 IN\n",
    "    (SELECT field_1\n",
    "     FROM db2\n",
    "     WHERE field_2 = 5);\n",
    "\n",
    "```\n"
   ]
  },
  {
   "cell_type": "markdown",
   "id": "8e78b257-7ab6-48b9-ad35-1b0a9e2d8705",
   "metadata": {},
   "source": [
    "#### Subquery in FROM\n",
    "```postgresql\n",
    "SELECT field\n",
    "FROM (SELECT field\n",
    "      FROM db1\n",
    "      WHERE criteria)\n",
    "\n",
    "```\n"
   ]
  },
  {
   "cell_type": "markdown",
   "id": "31f4169b-e8d0-4317-b4ef-7a52bf55eb5d",
   "metadata": {},
   "source": [
    "#### Subquery in SELECT\n",
    "**Has to be a single value**\n",
    "\n",
    "```postgresql\n",
    "SELECT field, \n",
    "        (SELECT field\n",
    "         FROM db2\n",
    "         WHERE criteria)\n",
    "FROM db1;\n",
    "\n",
    "```\n"
   ]
  },
  {
   "cell_type": "markdown",
   "id": "96a3727c-0fae-4444-9c04-93f6f3495cbb",
   "metadata": {
    "tags": []
   },
   "source": [
    "## Common Table Expressions (CTEs)\n",
    "\n",
    "Declare a table before main query and use it in `FROM` statement\n",
    "\n",
    "1. CTEs are stored in the memory after execution, improving performance\n",
    "2. CTEs provide better readability than subquery\n",
    "\n",
    "```postgresql\n",
    "-- CTEs:\n",
    "WITH tb1 AS (\n",
    "    SELECT field\n",
    "    FROM db1\n",
    "    WHERE criteria),\n",
    "tb2 AS (\n",
    "    SELECT field\n",
    "    FROM db1\n",
    "    WHERE criteria)\n",
    "-- Main query starts below:\n",
    "SELECT\n",
    "FROM\n",
    "WHERE\n",
    "\n",
    "```"
   ]
  },
  {
   "cell_type": "markdown",
   "id": "e26ceccc-f7de-4959-984d-86ef87b160c2",
   "metadata": {
    "tags": []
   },
   "source": [
    "## Window Functions\n"
   ]
  },
  {
   "cell_type": "markdown",
   "id": "17278b70-5d65-4114-8cde-3eda2bdce97c",
   "metadata": {
    "jp-MarkdownHeadingCollapsed": true,
    "tags": []
   },
   "source": [
    "### Basics"
   ]
  },
  {
   "cell_type": "markdown",
   "id": "77b47f09-7d59-497f-82cf-9655f9df6dec",
   "metadata": {
    "tags": []
   },
   "source": [
    "#### OVER()\n",
    "Used in `SELECTION` to simplify subquery by implying `FROM`,`WHERE`... statements of main query\n",
    "\n",
    "Instead of writing:\n",
    "```postgresql\n",
    "SELECT field_1, \n",
    "       (SELECT AVG(field_1)\n",
    "        FROM tb1\n",
    "        WHERE criteria) AS average\n",
    "FROM tb1\n",
    "WHERE criteria\n",
    "```\n",
    "\n",
    "Can now write:\n",
    "```postgresql\n",
    "SELECT field_1, AVG(field_1) OVER() AS average\n",
    "FROM tb1\n",
    "WHERE criteria\n",
    "```\n"
   ]
  },
  {
   "cell_type": "markdown",
   "id": "41ecebbc-5e26-4b43-911d-b7a6c641eff8",
   "metadata": {
    "tags": []
   },
   "source": [
    "\n",
    "#### OVER(ORDER BY)\n",
    "\n",
    "```postgresql\n",
    "SELECT ROW_NUMBER() OVER(ORDER BY filed DESC) AS row_n\n",
    "```\n"
   ]
  },
  {
   "cell_type": "markdown",
   "id": "ba0e0ca2-2f25-45c1-87f5-45cdc29a4e42",
   "metadata": {
    "jp-MarkdownHeadingCollapsed": true,
    "tags": []
   },
   "source": [
    "\n",
    "#### OVER(PARTITION BY)\n",
    "\n",
    "```postgresql\n",
    "SELECT AVG(field_1 + field_2) OVER(PARTITION BY field) AS field_avg\n",
    "```\n"
   ]
  },
  {
   "cell_type": "markdown",
   "id": "4ec82ed3-da8c-48fe-b27e-e3b0fcd1f175",
   "metadata": {
    "jp-MarkdownHeadingCollapsed": true,
    "tags": []
   },
   "source": [
    "### Ranking"
   ]
  },
  {
   "cell_type": "markdown",
   "id": "9da9423a-4232-42ad-975b-8b2561ce1a2d",
   "metadata": {
    "tags": []
   },
   "source": [
    "#### ROW_NUMBER()\n",
    "\n",
    "Assigns number to rows regardless if row values are unique or not\n",
    "\n",
    "```postgresql\n",
    "SELECT ROW_NUMBER() OVER() as row_n\n",
    "FROM tb1\n",
    "\n",
    "```\n"
   ]
  },
  {
   "cell_type": "markdown",
   "id": "d6cbda18-7394-4739-95b6-24100103316a",
   "metadata": {
    "jp-MarkdownHeadingCollapsed": true,
    "tags": []
   },
   "source": [
    "\n",
    "#### RANK()\n",
    "\n",
    "Assigns same number to rows sharing identical value, and skip ranks by the number of identical value\n",
    "\n",
    "value: 1,2,2,3\n",
    "\n",
    "ranking: 1,2,2,4\n",
    "\n",
    "```postgresql\n",
    "SELECT RANK() OVER(ORDER BY AVG(field_1 + field_2)DESC) AS field_rank\n",
    "```\n"
   ]
  },
  {
   "cell_type": "markdown",
   "id": "653f0191-9edb-4fbd-8bfd-f15d1e5271df",
   "metadata": {},
   "source": [
    "#### DENSE_RANK()\n",
    "\n",
    "Assigns same number to rows sharing identical value without skipping\n",
    "\n",
    "value: 1,2,2,3\n",
    "\n",
    "ranking: 1,2,2,3"
   ]
  },
  {
   "cell_type": "markdown",
   "id": "cf74791e-7f5e-422a-ae26-e728d3625bcb",
   "metadata": {
    "jp-MarkdownHeadingCollapsed": true,
    "tags": []
   },
   "source": [
    "### Fetching"
   ]
  },
  {
   "cell_type": "markdown",
   "id": "e11e741b-baa2-4bb7-8ae2-fd99b30e2beb",
   "metadata": {},
   "source": [
    "\n",
    "#### LAG()\n",
    "\n",
    "`LAG(field, n)` returns `field` value at the row `n` before the current row\n",
    "```postgresql\n",
    "LAG(field, num_row_downshift) OVER(ORDER BY field) AS _\n",
    "```\n"
   ]
  },
  {
   "cell_type": "markdown",
   "id": "8b2bd8c2-b54d-4020-99b7-84ae05a39b3b",
   "metadata": {},
   "source": [
    "\n",
    "#### LEAD()\n",
    "\n",
    "`LAG(field, n)` returns `field` value at the row `n` after the current row\n",
    "```postgresql\n",
    "LAG(field, num_row_upshift) OVER(ORDER BY field) AS _\n",
    "```\n"
   ]
  },
  {
   "cell_type": "markdown",
   "id": "3d8ccb24-f1b5-4a58-bdc1-3d20b92598a5",
   "metadata": {},
   "source": [
    "\n",
    "#### FIRST_VALUE()\n",
    "\n",
    "`FIRST_VALUE(field)` returns the first value of `field` in the table or partition\n"
   ]
  },
  {
   "cell_type": "markdown",
   "id": "3b47275f-8da4-4b9d-b648-18d51e2b7620",
   "metadata": {},
   "source": [
    "\n",
    "#### LAST_VALUE()\n",
    "\n",
    "`LAST_VALUE(field)` returns the last value of `field` in the table or partition\n"
   ]
  },
  {
   "cell_type": "markdown",
   "id": "b2d2eb87-8e18-46c2-9b1c-029710390eda",
   "metadata": {
    "jp-MarkdownHeadingCollapsed": true,
    "tags": []
   },
   "source": [
    "### Paging\n",
    "\n",
    "Split data into (approximately) equal chunks"
   ]
  },
  {
   "cell_type": "markdown",
   "id": "924d234e-8262-4815-9308-2acf686b1fbb",
   "metadata": {},
   "source": [
    "#### NTILE()\n",
    "\n",
    "`NTILE(n)` split table into `n` (approximately) equal pages\n",
    "\n",
    "```postgresql\n",
    "SELECT NTILE(5) OVER() AS page\n",
    "\n",
    "```"
   ]
  },
  {
   "cell_type": "markdown",
   "id": "7ad52e7a-7c90-4ce1-bdbf-34c084c85c70",
   "metadata": {
    "jp-MarkdownHeadingCollapsed": true,
    "tags": []
   },
   "source": [
    "### Framing"
   ]
  },
  {
   "cell_type": "markdown",
   "id": "2a02a259-ea8b-40d6-912c-f9d96bef8922",
   "metadata": {
    "tags": []
   },
   "source": [
    "#### ROWS BETWEEN\n",
    "\n",
    "`ROWS BETWEEN [start] AND [finish]`\n",
    "\n",
    "`[start]`, `[finish]` can be:\n",
    "\n",
    "- PRECEDING\n",
    "- FOLLOWING\n",
    "- UNBOUNDED PRECEDING\n",
    "- UNBOUNDED FOLLOWING\n",
    "- CURRENT ROW\n",
    "\n",
    "```postgresql\n",
    "SELECT SUM(field) OVER(ORDER BY date ROWS BETWEEN UNBOUNDED PRECEDING AND CURRENT ROW) AS running_total;\n",
    "\n",
    "SELECT AVG(field) OVER(ORDER BY date ROWS BETWEEN 2 PRECEDING AND CURRENT ROW) AS three_moving_average;\n",
    "\n",
    "```"
   ]
  },
  {
   "cell_type": "markdown",
   "id": "1e683a1c-050e-46a1-9a03-67c29e57fe4c",
   "metadata": {},
   "source": [
    "#### RANGE BETWEEN\n",
    "\n",
    "Treats duplicates as a single entity. Less often compared to `ROWS BETWEEN`"
   ]
  },
  {
   "cell_type": "markdown",
   "id": "d491c106-f91f-442d-b66c-8d9b7f97c096",
   "metadata": {
    "jp-MarkdownHeadingCollapsed": true,
    "tags": []
   },
   "source": [
    "### Pivoting\n"
   ]
  },
  {
   "cell_type": "markdown",
   "id": "e7742702-5a17-4d40-88fa-535583e86f89",
   "metadata": {},
   "source": [
    "```postgresql\n",
    "CREATE EXTENSION IF NOT EXISTS tablefunc\n",
    "\n",
    "SELECT * \n",
    "FROM CROSSTAB($$\n",
    "    SELECT\n",
    "        field_1, field_2, COUNT(*) :: INTEGER AS filed_3\n",
    "    FROM tb1\n",
    "    WHERE criteria\n",
    "$$) AS ct(field_1 VARCHAR, field_2 VARCHAR, field_3 INTEGER)\n",
    "```"
   ]
  },
  {
   "cell_type": "markdown",
   "id": "0db0c3fd-4bd0-4add-845e-cfdf26f187fb",
   "metadata": {
    "jp-MarkdownHeadingCollapsed": true,
    "tags": []
   },
   "source": [
    "### ROLLUP & CUBE"
   ]
  },
  {
   "cell_type": "markdown",
   "id": "d1737de6-3419-4a8f-929c-901ad92a4f76",
   "metadata": {},
   "source": [
    "#### ROLLUP()\n",
    "\n",
    "Subclause of GROUP BY to add extra row that represents group-level aggregation\n",
    "\n",
    "```postgresql\n",
    "SELECT COUNT(*)\n",
    "FROM db1\n",
    "GROUP BY field_1 ROLLUP(field_2)\n",
    "```\n",
    "\n",
    "Will add extra row that calculate the total count grouped by `field_1`"
   ]
  },
  {
   "cell_type": "markdown",
   "id": "4f104cf3-3ad8-4cfe-8567-11203eae8eb0",
   "metadata": {},
   "source": [
    "#### CUBE()\n",
    "\n",
    "Add extra rows to ROLLUP()"
   ]
  },
  {
   "cell_type": "markdown",
   "id": "71f73527-2f46-4acb-a798-bd80764080f1",
   "metadata": {
    "jp-MarkdownHeadingCollapsed": true,
    "tags": []
   },
   "source": [
    "### Fill Nulls"
   ]
  },
  {
   "cell_type": "markdown",
   "id": "988f7318-e5ca-4295-82cf-c261fc48ef2d",
   "metadata": {},
   "source": [
    "```postgresql\n",
    "SELECT COALESCE(field, fill_value) AS field_1\n",
    "\n",
    "```"
   ]
  },
  {
   "cell_type": "markdown",
   "id": "071209ae-86f9-4447-a53e-5330521bc434",
   "metadata": {},
   "source": [
    "### Compress Data\n",
    "\n",
    "Join all values in a field into a long string with `delimiter`"
   ]
  },
  {
   "cell_type": "markdown",
   "id": "e362681e-2304-436c-912e-e0ab94b9ed4f",
   "metadata": {},
   "source": [
    "```postgresql\n",
    "STRING_AGG(field, delimiter)\n",
    "```"
   ]
  }
 ],
 "metadata": {
  "kernelspec": {
   "display_name": "Python 3 (ipykernel)",
   "language": "python",
   "name": "python3"
  },
  "language_info": {
   "codemirror_mode": {
    "name": "ipython",
    "version": 3
   },
   "file_extension": ".py",
   "mimetype": "text/x-python",
   "name": "python",
   "nbconvert_exporter": "python",
   "pygments_lexer": "ipython3",
   "version": "3.9.12"
  }
 },
 "nbformat": 4,
 "nbformat_minor": 5
}
